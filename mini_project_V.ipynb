{
 "cells": [
  {
   "cell_type": "markdown",
   "metadata": {},
   "source": [
    "## Identifying Duplicate Questions"
   ]
  },
  {
   "cell_type": "markdown",
   "metadata": {},
   "source": [
    "Over 100 million people visit Quora every month, so it's no surprise that many people ask similar (or the same) questions. Various questions with the same intent can cause people to spend extra time searching for the best answer to their question, and results in members answering multiple versions of the same question. Quora uses random forest to identify duplicated questions to provide a better experience to active seekers and writers, and offer more value to both of these groups in the long term.\n",
    "Follow the steps outlined below to build the appropriate classifier model. \n",
    "\n",
    "\n",
    "Steps:\n",
    "- Download data\n",
    "- Exploration\n",
    "- Cleaning\n",
    "- Feature Engineering\n",
    "- Modeling\n",
    "\n",
    "By the end of this project you should have **a presentation that describes the model you built** and its **performance**. \n"
   ]
  },
  {
   "cell_type": "code",
   "execution_count": 125,
   "metadata": {},
   "outputs": [],
   "source": [
    "import pandas as pd"
   ]
  },
  {
   "cell_type": "code",
   "execution_count": 126,
   "metadata": {},
   "outputs": [],
   "source": [
    "df = pd.read_csv(\"train.csv\")"
   ]
  },
  {
   "cell_type": "markdown",
   "metadata": {},
   "source": [
    "#### Note\n",
    "There is no designated test.csv file. The train.csv file is the entire dataset. Part of the data in the train.csv file should be set aside to act as the final testing data."
   ]
  },
  {
   "cell_type": "code",
   "execution_count": 127,
   "metadata": {},
   "outputs": [],
   "source": [
    "# Split the data into training and test sets\n",
    "from sklearn.model_selection import train_test_split\n",
    "df, test_df = train_test_split(df, test_size=0.2, random_state=42)"
   ]
  },
  {
   "cell_type": "markdown",
   "metadata": {},
   "source": [
    "### Exploration"
   ]
  },
  {
   "cell_type": "code",
   "execution_count": 4,
   "metadata": {},
   "outputs": [
    {
     "data": {
      "text/html": [
       "<div>\n",
       "<style scoped>\n",
       "    .dataframe tbody tr th:only-of-type {\n",
       "        vertical-align: middle;\n",
       "    }\n",
       "\n",
       "    .dataframe tbody tr th {\n",
       "        vertical-align: top;\n",
       "    }\n",
       "\n",
       "    .dataframe thead th {\n",
       "        text-align: right;\n",
       "    }\n",
       "</style>\n",
       "<table border=\"1\" class=\"dataframe\">\n",
       "  <thead>\n",
       "    <tr style=\"text-align: right;\">\n",
       "      <th></th>\n",
       "      <th>id</th>\n",
       "      <th>qid1</th>\n",
       "      <th>qid2</th>\n",
       "      <th>question1</th>\n",
       "      <th>question2</th>\n",
       "      <th>is_duplicate</th>\n",
       "    </tr>\n",
       "  </thead>\n",
       "  <tbody>\n",
       "    <tr>\n",
       "      <th>352886</th>\n",
       "      <td>352886</td>\n",
       "      <td>214777</td>\n",
       "      <td>481858</td>\n",
       "      <td>What are some of the short stories?</td>\n",
       "      <td>What are some great short stories with a twist...</td>\n",
       "      <td>0</td>\n",
       "    </tr>\n",
       "    <tr>\n",
       "      <th>134949</th>\n",
       "      <td>134949</td>\n",
       "      <td>178460</td>\n",
       "      <td>215604</td>\n",
       "      <td>Is this a German Shepherd dog?</td>\n",
       "      <td>Are german shepherd dogs loyal?</td>\n",
       "      <td>0</td>\n",
       "    </tr>\n",
       "    <tr>\n",
       "      <th>168419</th>\n",
       "      <td>168419</td>\n",
       "      <td>74366</td>\n",
       "      <td>106454</td>\n",
       "      <td>What is the most important lesson ever learned...</td>\n",
       "      <td>What are the most important lessons you have l...</td>\n",
       "      <td>1</td>\n",
       "    </tr>\n",
       "    <tr>\n",
       "      <th>402543</th>\n",
       "      <td>402543</td>\n",
       "      <td>257727</td>\n",
       "      <td>111990</td>\n",
       "      <td>Which ad networks for mobile native ads have a...</td>\n",
       "      <td>Which ad networks for desktop native ads have ...</td>\n",
       "      <td>1</td>\n",
       "    </tr>\n",
       "    <tr>\n",
       "      <th>13551</th>\n",
       "      <td>13551</td>\n",
       "      <td>26006</td>\n",
       "      <td>26007</td>\n",
       "      <td>What should I do to be an athlete in a month?</td>\n",
       "      <td>What is shop act licence?</td>\n",
       "      <td>0</td>\n",
       "    </tr>\n",
       "  </tbody>\n",
       "</table>\n",
       "</div>"
      ],
      "text/plain": [
       "            id    qid1    qid2  \\\n",
       "352886  352886  214777  481858   \n",
       "134949  134949  178460  215604   \n",
       "168419  168419   74366  106454   \n",
       "402543  402543  257727  111990   \n",
       "13551    13551   26006   26007   \n",
       "\n",
       "                                                question1  \\\n",
       "352886                What are some of the short stories?   \n",
       "134949                     Is this a German Shepherd dog?   \n",
       "168419  What is the most important lesson ever learned...   \n",
       "402543  Which ad networks for mobile native ads have a...   \n",
       "13551       What should I do to be an athlete in a month?   \n",
       "\n",
       "                                                question2  is_duplicate  \n",
       "352886  What are some great short stories with a twist...             0  \n",
       "134949                    Are german shepherd dogs loyal?             0  \n",
       "168419  What are the most important lessons you have l...             1  \n",
       "402543  Which ad networks for desktop native ads have ...             1  \n",
       "13551                           What is shop act licence?             0  "
      ]
     },
     "execution_count": 4,
     "metadata": {},
     "output_type": "execute_result"
    }
   ],
   "source": [
    "df.head()"
   ]
  },
  {
   "cell_type": "code",
   "execution_count": 5,
   "metadata": {},
   "outputs": [
    {
     "name": "stdout",
     "output_type": "stream",
     "text": [
      "<class 'pandas.core.frame.DataFrame'>\n",
      "Int64Index: 323432 entries, 352886 to 121958\n",
      "Data columns (total 6 columns):\n",
      " #   Column        Non-Null Count   Dtype \n",
      "---  ------        --------------   ----- \n",
      " 0   id            323432 non-null  int64 \n",
      " 1   qid1          323432 non-null  int64 \n",
      " 2   qid2          323432 non-null  int64 \n",
      " 3   question1     323431 non-null  object\n",
      " 4   question2     323430 non-null  object\n",
      " 5   is_duplicate  323432 non-null  int64 \n",
      "dtypes: int64(4), object(2)\n",
      "memory usage: 17.3+ MB\n"
     ]
    }
   ],
   "source": [
    "df.info()"
   ]
  },
  {
   "cell_type": "code",
   "execution_count": 6,
   "metadata": {},
   "outputs": [
    {
     "data": {
      "text/html": [
       "<div>\n",
       "<style scoped>\n",
       "    .dataframe tbody tr th:only-of-type {\n",
       "        vertical-align: middle;\n",
       "    }\n",
       "\n",
       "    .dataframe tbody tr th {\n",
       "        vertical-align: top;\n",
       "    }\n",
       "\n",
       "    .dataframe thead th {\n",
       "        text-align: right;\n",
       "    }\n",
       "</style>\n",
       "<table border=\"1\" class=\"dataframe\">\n",
       "  <thead>\n",
       "    <tr style=\"text-align: right;\">\n",
       "      <th></th>\n",
       "      <th>id</th>\n",
       "      <th>qid1</th>\n",
       "      <th>qid2</th>\n",
       "      <th>question1</th>\n",
       "      <th>question2</th>\n",
       "      <th>is_duplicate</th>\n",
       "    </tr>\n",
       "  </thead>\n",
       "  <tbody>\n",
       "    <tr>\n",
       "      <th>201841</th>\n",
       "      <td>201841</td>\n",
       "      <td>303951</td>\n",
       "      <td>174364</td>\n",
       "      <td>How can I create an Android app?</td>\n",
       "      <td>NaN</td>\n",
       "      <td>0</td>\n",
       "    </tr>\n",
       "    <tr>\n",
       "      <th>363362</th>\n",
       "      <td>363362</td>\n",
       "      <td>493340</td>\n",
       "      <td>493341</td>\n",
       "      <td>NaN</td>\n",
       "      <td>My Chinese name is Haichao Yu. What English na...</td>\n",
       "      <td>0</td>\n",
       "    </tr>\n",
       "    <tr>\n",
       "      <th>105780</th>\n",
       "      <td>105780</td>\n",
       "      <td>174363</td>\n",
       "      <td>174364</td>\n",
       "      <td>How can I develop android app?</td>\n",
       "      <td>NaN</td>\n",
       "      <td>0</td>\n",
       "    </tr>\n",
       "  </tbody>\n",
       "</table>\n",
       "</div>"
      ],
      "text/plain": [
       "            id    qid1    qid2                         question1  \\\n",
       "201841  201841  303951  174364  How can I create an Android app?   \n",
       "363362  363362  493340  493341                               NaN   \n",
       "105780  105780  174363  174364    How can I develop android app?   \n",
       "\n",
       "                                                question2  is_duplicate  \n",
       "201841                                                NaN             0  \n",
       "363362  My Chinese name is Haichao Yu. What English na...             0  \n",
       "105780                                                NaN             0  "
      ]
     },
     "execution_count": 6,
     "metadata": {},
     "output_type": "execute_result"
    }
   ],
   "source": [
    "df[df.isnull().any(axis=1)]"
   ]
  },
  {
   "cell_type": "code",
   "execution_count": 7,
   "metadata": {},
   "outputs": [],
   "source": [
    "df = df.fillna('no que')"
   ]
  },
  {
   "cell_type": "code",
   "execution_count": 8,
   "metadata": {},
   "outputs": [
    {
     "name": "stdout",
     "output_type": "stream",
     "text": [
      "<class 'pandas.core.frame.DataFrame'>\n",
      "Int64Index: 323432 entries, 352886 to 121958\n",
      "Data columns (total 6 columns):\n",
      " #   Column        Non-Null Count   Dtype \n",
      "---  ------        --------------   ----- \n",
      " 0   id            323432 non-null  int64 \n",
      " 1   qid1          323432 non-null  int64 \n",
      " 2   qid2          323432 non-null  int64 \n",
      " 3   question1     323432 non-null  object\n",
      " 4   question2     323432 non-null  object\n",
      " 5   is_duplicate  323432 non-null  int64 \n",
      "dtypes: int64(4), object(2)\n",
      "memory usage: 17.3+ MB\n"
     ]
    }
   ],
   "source": [
    "df.info()"
   ]
  },
  {
   "cell_type": "markdown",
   "metadata": {},
   "source": [
    "### Cleaning\n",
    "\n",
    "- Tokenization\n",
    "- Stopwords cleaning\n",
    "- Removing punctuation\n",
    "- Normalizing\n",
    "- Stemming"
   ]
  },
  {
   "cell_type": "code",
   "execution_count": 22,
   "metadata": {},
   "outputs": [],
   "source": [
    "feature = df[['question1','question2']]"
   ]
  },
  {
   "cell_type": "code",
   "execution_count": 23,
   "metadata": {},
   "outputs": [
    {
     "name": "stdout",
     "output_type": "stream",
     "text": [
      "<class 'pandas.core.frame.DataFrame'>\n",
      "Int64Index: 323432 entries, 352886 to 121958\n",
      "Data columns (total 2 columns):\n",
      " #   Column     Non-Null Count   Dtype \n",
      "---  ------     --------------   ----- \n",
      " 0   question1  323432 non-null  object\n",
      " 1   question2  323432 non-null  object\n",
      "dtypes: object(2)\n",
      "memory usage: 7.4+ MB\n"
     ]
    }
   ],
   "source": [
    "feature.info()"
   ]
  },
  {
   "cell_type": "code",
   "execution_count": 71,
   "metadata": {},
   "outputs": [],
   "source": [
    "# Define a function to remove punctuation in our messages\n",
    "def remove_punct(text):\n",
    "    text = \"\".join([char for char in text if char not in string.punctuation])\n",
    "    return text"
   ]
  },
  {
   "cell_type": "code",
   "execution_count": 72,
   "metadata": {},
   "outputs": [],
   "source": [
    "def convert_to_lowercase(text):\n",
    "    return text.lower()"
   ]
  },
  {
   "cell_type": "code",
   "execution_count": 73,
   "metadata": {},
   "outputs": [
    {
     "name": "stderr",
     "output_type": "stream",
     "text": [
      "[nltk_data] Downloading package stopwords to\n",
      "[nltk_data]     C:\\Users\\patel\\AppData\\Roaming\\nltk_data...\n",
      "[nltk_data]   Package stopwords is already up-to-date!\n"
     ]
    }
   ],
   "source": [
    "# Import the NLTK package and download the necessary data\n",
    "import nltk\n",
    "nltk.download('stopwords')\n",
    "from nltk.corpus import stopwords\n",
    "# Define a function to remove all stopwords\n",
    "def remove_stopwords(tokenized_text):\n",
    "    ENGstopwords = stopwords.words('english')\n",
    "    text = [word for word in tokenized_text if word not in ENGstopwords]\n",
    "    return text\n"
   ]
  },
  {
   "cell_type": "code",
   "execution_count": 74,
   "metadata": {},
   "outputs": [],
   "source": [
    "#import regular expression\n",
    "import re\n",
    "\n",
    "def tokenize(text):\n",
    "    tokens = text.split()\n",
    "    return tokens"
   ]
  },
  {
   "cell_type": "code",
   "execution_count": 75,
   "metadata": {},
   "outputs": [
    {
     "name": "stderr",
     "output_type": "stream",
     "text": [
      "[nltk_data] Downloading package punkt to\n",
      "[nltk_data]     C:\\Users\\patel\\AppData\\Roaming\\nltk_data...\n",
      "[nltk_data]   Package punkt is already up-to-date!\n"
     ]
    }
   ],
   "source": [
    "# importing modules \n",
    "nltk.download('punkt')\n",
    "from nltk.stem import PorterStemmer\n",
    "\n",
    "def stem_text(tokenized_text):\n",
    "    stemmer = PorterStemmer()\n",
    "    stemmed_words = []\n",
    "    for word in tokenized_text:\n",
    "        stemmed_word = stemmer.stem(word)\n",
    "        stemmed_words.append(stemmed_word)\n",
    "    return ' '.join(stemmed_words)"
   ]
  },
  {
   "cell_type": "code",
   "execution_count": 45,
   "metadata": {},
   "outputs": [
    {
     "data": {
      "text/plain": [
       "352886                  What are some of the short stories?\n",
       "134949                       Is this a German Shepherd dog?\n",
       "168419    What is the most important lesson ever learned...\n",
       "402543    Which ad networks for mobile native ads have a...\n",
       "13551         What should I do to be an athlete in a month?\n",
       "                                ...                        \n",
       "259178                     How do you feed a Venus flytrap?\n",
       "365838    I'm an Electrical Engineering student of Sixth...\n",
       "131932    What is the best DSLR camera for a beginner to...\n",
       "146867      What is a good computer desk for dual monitors?\n",
       "121958    Focusing & Concentrating: How do I keep myself...\n",
       "Name: question1, Length: 323432, dtype: object"
      ]
     },
     "execution_count": 45,
     "metadata": {},
     "output_type": "execute_result"
    }
   ],
   "source": [
    "df['question1']"
   ]
  },
  {
   "cell_type": "code",
   "execution_count": 76,
   "metadata": {},
   "outputs": [],
   "source": [
    "import string\n",
    "def preprocess(text):\n",
    "    text = str(text)  # Convert text to string\n",
    "    text = remove_punct(text)\n",
    "    text = convert_to_lowercase(text)\n",
    "    text = tokenize(text)\n",
    "    text = remove_stopwords(text)\n",
    "    text = stem_text(text)\n",
    "    return text"
   ]
  },
  {
   "cell_type": "code",
   "execution_count": 47,
   "metadata": {},
   "outputs": [],
   "source": [
    "df['question1_clean'] = df['question1'].apply(lambda x: preprocess(x))"
   ]
  },
  {
   "cell_type": "code",
   "execution_count": 48,
   "metadata": {},
   "outputs": [
    {
     "data": {
      "text/plain": [
       "352886                                          short stori\n",
       "134949                                  german shepherd dog\n",
       "168419                        import lesson ever learn life\n",
       "402543    ad network mobil nativ ad good fill rateecpm b...\n",
       "13551                                          athlet month\n",
       "                                ...                        \n",
       "259178                                    feed venu flytrap\n",
       "365838    im electr engin student sixth semest made fina...\n",
       "131932                    best dslr camera beginn buy india\n",
       "146867                        good comput desk dual monitor\n",
       "121958                 focus concentr keep awak bore lectur\n",
       "Name: question1_clean, Length: 323432, dtype: object"
      ]
     },
     "execution_count": 48,
     "metadata": {},
     "output_type": "execute_result"
    }
   ],
   "source": [
    "df['question1_clean']"
   ]
  },
  {
   "cell_type": "code",
   "execution_count": 49,
   "metadata": {},
   "outputs": [],
   "source": [
    "df['question2_clean'] = df['question2'].apply(lambda x: preprocess(x))"
   ]
  },
  {
   "cell_type": "code",
   "execution_count": 50,
   "metadata": {},
   "outputs": [
    {
     "data": {
      "text/html": [
       "<div>\n",
       "<style scoped>\n",
       "    .dataframe tbody tr th:only-of-type {\n",
       "        vertical-align: middle;\n",
       "    }\n",
       "\n",
       "    .dataframe tbody tr th {\n",
       "        vertical-align: top;\n",
       "    }\n",
       "\n",
       "    .dataframe thead th {\n",
       "        text-align: right;\n",
       "    }\n",
       "</style>\n",
       "<table border=\"1\" class=\"dataframe\">\n",
       "  <thead>\n",
       "    <tr style=\"text-align: right;\">\n",
       "      <th></th>\n",
       "      <th>question1</th>\n",
       "      <th>question2</th>\n",
       "      <th>is_duplicate</th>\n",
       "      <th>question1_str</th>\n",
       "      <th>question1_clean</th>\n",
       "      <th>question2_clean</th>\n",
       "    </tr>\n",
       "  </thead>\n",
       "  <tbody>\n",
       "    <tr>\n",
       "      <th>352886</th>\n",
       "      <td>What are some of the short stories?</td>\n",
       "      <td>What are some great short stories with a twist...</td>\n",
       "      <td>0</td>\n",
       "      <td>What are some of the short stories?</td>\n",
       "      <td>short stori</td>\n",
       "      <td>great short stori twist end</td>\n",
       "    </tr>\n",
       "    <tr>\n",
       "      <th>134949</th>\n",
       "      <td>Is this a German Shepherd dog?</td>\n",
       "      <td>Are german shepherd dogs loyal?</td>\n",
       "      <td>0</td>\n",
       "      <td>Is this a German Shepherd dog?</td>\n",
       "      <td>german shepherd dog</td>\n",
       "      <td>german shepherd dog loyal</td>\n",
       "    </tr>\n",
       "    <tr>\n",
       "      <th>168419</th>\n",
       "      <td>What is the most important lesson ever learned...</td>\n",
       "      <td>What are the most important lessons you have l...</td>\n",
       "      <td>1</td>\n",
       "      <td>What is the most important lesson ever learned...</td>\n",
       "      <td>import lesson ever learn life</td>\n",
       "      <td>import lesson learn life learn</td>\n",
       "    </tr>\n",
       "    <tr>\n",
       "      <th>402543</th>\n",
       "      <td>Which ad networks for mobile native ads have a...</td>\n",
       "      <td>Which ad networks for desktop native ads have ...</td>\n",
       "      <td>1</td>\n",
       "      <td>Which ad networks for mobile native ads have a...</td>\n",
       "      <td>ad network mobil nativ ad good fill rateecpm b...</td>\n",
       "      <td>ad network desktop nativ ad good fill rateecpm...</td>\n",
       "    </tr>\n",
       "    <tr>\n",
       "      <th>13551</th>\n",
       "      <td>What should I do to be an athlete in a month?</td>\n",
       "      <td>What is shop act licence?</td>\n",
       "      <td>0</td>\n",
       "      <td>What should I do to be an athlete in a month?</td>\n",
       "      <td>athlet month</td>\n",
       "      <td>shop act licenc</td>\n",
       "    </tr>\n",
       "  </tbody>\n",
       "</table>\n",
       "</div>"
      ],
      "text/plain": [
       "                                                question1  \\\n",
       "352886                What are some of the short stories?   \n",
       "134949                     Is this a German Shepherd dog?   \n",
       "168419  What is the most important lesson ever learned...   \n",
       "402543  Which ad networks for mobile native ads have a...   \n",
       "13551       What should I do to be an athlete in a month?   \n",
       "\n",
       "                                                question2  is_duplicate  \\\n",
       "352886  What are some great short stories with a twist...             0   \n",
       "134949                    Are german shepherd dogs loyal?             0   \n",
       "168419  What are the most important lessons you have l...             1   \n",
       "402543  Which ad networks for desktop native ads have ...             1   \n",
       "13551                           What is shop act licence?             0   \n",
       "\n",
       "                                            question1_str  \\\n",
       "352886                What are some of the short stories?   \n",
       "134949                     Is this a German Shepherd dog?   \n",
       "168419  What is the most important lesson ever learned...   \n",
       "402543  Which ad networks for mobile native ads have a...   \n",
       "13551       What should I do to be an athlete in a month?   \n",
       "\n",
       "                                          question1_clean  \\\n",
       "352886                                        short stori   \n",
       "134949                                german shepherd dog   \n",
       "168419                      import lesson ever learn life   \n",
       "402543  ad network mobil nativ ad good fill rateecpm b...   \n",
       "13551                                        athlet month   \n",
       "\n",
       "                                          question2_clean  \n",
       "352886                        great short stori twist end  \n",
       "134949                          german shepherd dog loyal  \n",
       "168419                     import lesson learn life learn  \n",
       "402543  ad network desktop nativ ad good fill rateecpm...  \n",
       "13551                                     shop act licenc  "
      ]
     },
     "execution_count": 50,
     "metadata": {},
     "output_type": "execute_result"
    }
   ],
   "source": [
    "df.head()"
   ]
  },
  {
   "cell_type": "code",
   "execution_count": 51,
   "metadata": {},
   "outputs": [],
   "source": [
    "# Save the DataFrame as a CSV file\n",
    "#df.to_csv('clean_df.csv', index=False)"
   ]
  },
  {
   "cell_type": "markdown",
   "metadata": {},
   "source": [
    "### Feature Engineering\n",
    "\n",
    "- tf-idf\n",
    "- word2vec\n",
    "- word count\n",
    "- number of the same words in both questions\n",
    "- ...."
   ]
  },
  {
   "cell_type": "code",
   "execution_count": 1,
   "metadata": {},
   "outputs": [],
   "source": [
    "import pandas as pd\n",
    "df = pd.read_csv('clean_df.csv')"
   ]
  },
  {
   "cell_type": "code",
   "execution_count": 4,
   "metadata": {},
   "outputs": [
    {
     "data": {
      "text/html": [
       "<div>\n",
       "<style scoped>\n",
       "    .dataframe tbody tr th:only-of-type {\n",
       "        vertical-align: middle;\n",
       "    }\n",
       "\n",
       "    .dataframe tbody tr th {\n",
       "        vertical-align: top;\n",
       "    }\n",
       "\n",
       "    .dataframe thead th {\n",
       "        text-align: right;\n",
       "    }\n",
       "</style>\n",
       "<table border=\"1\" class=\"dataframe\">\n",
       "  <thead>\n",
       "    <tr style=\"text-align: right;\">\n",
       "      <th></th>\n",
       "      <th>question1</th>\n",
       "      <th>question2</th>\n",
       "      <th>is_duplicate</th>\n",
       "      <th>question1_str</th>\n",
       "      <th>question1_clean</th>\n",
       "      <th>question2_clean</th>\n",
       "    </tr>\n",
       "  </thead>\n",
       "  <tbody>\n",
       "    <tr>\n",
       "      <th>0</th>\n",
       "      <td>What are some of the short stories?</td>\n",
       "      <td>What are some great short stories with a twist...</td>\n",
       "      <td>0</td>\n",
       "      <td>What are some of the short stories?</td>\n",
       "      <td>short stori</td>\n",
       "      <td>great short stori twist end</td>\n",
       "    </tr>\n",
       "    <tr>\n",
       "      <th>1</th>\n",
       "      <td>Is this a German Shepherd dog?</td>\n",
       "      <td>Are german shepherd dogs loyal?</td>\n",
       "      <td>0</td>\n",
       "      <td>Is this a German Shepherd dog?</td>\n",
       "      <td>german shepherd dog</td>\n",
       "      <td>german shepherd dog loyal</td>\n",
       "    </tr>\n",
       "    <tr>\n",
       "      <th>2</th>\n",
       "      <td>What is the most important lesson ever learned...</td>\n",
       "      <td>What are the most important lessons you have l...</td>\n",
       "      <td>1</td>\n",
       "      <td>What is the most important lesson ever learned...</td>\n",
       "      <td>import lesson ever learn life</td>\n",
       "      <td>import lesson learn life learn</td>\n",
       "    </tr>\n",
       "    <tr>\n",
       "      <th>3</th>\n",
       "      <td>Which ad networks for mobile native ads have a...</td>\n",
       "      <td>Which ad networks for desktop native ads have ...</td>\n",
       "      <td>1</td>\n",
       "      <td>Which ad networks for mobile native ads have a...</td>\n",
       "      <td>ad network mobil nativ ad good fill rateecpm b...</td>\n",
       "      <td>ad network desktop nativ ad good fill rateecpm...</td>\n",
       "    </tr>\n",
       "    <tr>\n",
       "      <th>4</th>\n",
       "      <td>What should I do to be an athlete in a month?</td>\n",
       "      <td>What is shop act licence?</td>\n",
       "      <td>0</td>\n",
       "      <td>What should I do to be an athlete in a month?</td>\n",
       "      <td>athlet month</td>\n",
       "      <td>shop act licenc</td>\n",
       "    </tr>\n",
       "  </tbody>\n",
       "</table>\n",
       "</div>"
      ],
      "text/plain": [
       "                                           question1  \\\n",
       "0                What are some of the short stories?   \n",
       "1                     Is this a German Shepherd dog?   \n",
       "2  What is the most important lesson ever learned...   \n",
       "3  Which ad networks for mobile native ads have a...   \n",
       "4      What should I do to be an athlete in a month?   \n",
       "\n",
       "                                           question2  is_duplicate  \\\n",
       "0  What are some great short stories with a twist...             0   \n",
       "1                    Are german shepherd dogs loyal?             0   \n",
       "2  What are the most important lessons you have l...             1   \n",
       "3  Which ad networks for desktop native ads have ...             1   \n",
       "4                          What is shop act licence?             0   \n",
       "\n",
       "                                       question1_str  \\\n",
       "0                What are some of the short stories?   \n",
       "1                     Is this a German Shepherd dog?   \n",
       "2  What is the most important lesson ever learned...   \n",
       "3  Which ad networks for mobile native ads have a...   \n",
       "4      What should I do to be an athlete in a month?   \n",
       "\n",
       "                                     question1_clean  \\\n",
       "0                                        short stori   \n",
       "1                                german shepherd dog   \n",
       "2                      import lesson ever learn life   \n",
       "3  ad network mobil nativ ad good fill rateecpm b...   \n",
       "4                                       athlet month   \n",
       "\n",
       "                                     question2_clean  \n",
       "0                        great short stori twist end  \n",
       "1                          german shepherd dog loyal  \n",
       "2                     import lesson learn life learn  \n",
       "3  ad network desktop nativ ad good fill rateecpm...  \n",
       "4                                    shop act licenc  "
      ]
     },
     "execution_count": 4,
     "metadata": {},
     "output_type": "execute_result"
    }
   ],
   "source": [
    "df.head()"
   ]
  },
  {
   "cell_type": "markdown",
   "metadata": {},
   "source": [
    "# word2vec"
   ]
  },
  {
   "cell_type": "code",
   "execution_count": 55,
   "metadata": {},
   "outputs": [],
   "source": [
    "import gensim\n",
    "\n",
    "# Load Google's pre-trained Word2Vec model.\n",
    "model = gensim.models.KeyedVectors.load_word2vec_format(\"C:/Users/patel/GoogleNews-vectors-negative300.bin.gz\", binary=True)"
   ]
  },
  {
   "cell_type": "code",
   "execution_count": 61,
   "metadata": {},
   "outputs": [
    {
     "name": "stdout",
     "output_type": "stream",
     "text": [
      "Similarity: 3.0903111566417985\n"
     ]
    }
   ],
   "source": [
    "import numpy as np\n",
    "def string_similarity(string1, string2):\n",
    "    # Tokenize the strings into words\n",
    "    tokens1 = string1.lower().split()\n",
    "    tokens2 = string2.lower().split()\n",
    "\n",
    "    # Remove out-of-vocabulary words and get corresponding vectors\n",
    "    vectors1 = [model.get_vector(word) for word in tokens1 if word in model.key_to_index]\n",
    "    vectors2 = [model.get_vector(word) for word in tokens2 if word in model.key_to_index]\n",
    "\n",
    "    if not vectors1 or not vectors2:\n",
    "        # Return similarity of 0 if either of the strings is empty or contains only out-of-vocabulary words\n",
    "        return 0.0\n",
    "\n",
    "    # Pad vectors with zeros to have the same length\n",
    "    max_length = max(len(vectors1), len(vectors2))\n",
    "    vectors1 = pad_vectors(vectors1, max_length)\n",
    "    vectors2 = pad_vectors(vectors2, max_length)\n",
    "\n",
    "    # Calculate the similarity between the vectors\n",
    "    similarity = np.dot(vectors1, vectors2.T).mean()\n",
    "\n",
    "    return similarity\n",
    "\n",
    "def pad_vectors(vectors, length):\n",
    "    padded_vectors = np.zeros((length, model.vector_size))\n",
    "    padded_vectors[:len(vectors)] = vectors\n",
    "    return padded_vectors\n",
    "\n",
    "# Example usage\n",
    "string1 = \"I am happy\"\n",
    "string2 = \"I am glad\"\n",
    "similarity = string_similarity(string1, string2)\n",
    "print(\"Similarity:\", similarity)"
   ]
  },
  {
   "cell_type": "code",
   "execution_count": 68,
   "metadata": {},
   "outputs": [
    {
     "data": {
      "text/plain": [
       "2.7502065199737444"
      ]
     },
     "execution_count": 68,
     "metadata": {},
     "output_type": "execute_result"
    }
   ],
   "source": [
    "string_similarity(df['question1_clean'][1],df['question2_clean'][1])"
   ]
  },
  {
   "cell_type": "code",
   "execution_count": 70,
   "metadata": {},
   "outputs": [],
   "source": [
    "df['similarity'] = df.apply(lambda row: string_similarity(str(row['question1_clean']), str(row['question2_clean'])), axis=1)"
   ]
  },
  {
   "cell_type": "code",
   "execution_count": 72,
   "metadata": {},
   "outputs": [],
   "source": [
    "#df.to_csv('simillarity_df.csv', index=False)"
   ]
  },
  {
   "cell_type": "code",
   "execution_count": 3,
   "metadata": {},
   "outputs": [],
   "source": [
    "df = pd.read_csv('simillarity_df.csv')"
   ]
  },
  {
   "cell_type": "code",
   "execution_count": 4,
   "metadata": {},
   "outputs": [],
   "source": [
    "# Fill missing values with empty strings\n",
    "df['question1_clean'].fillna('', inplace=True)\n",
    "df['question2_clean'].fillna('', inplace=True)\n"
   ]
  },
  {
   "cell_type": "code",
   "execution_count": 4,
   "metadata": {},
   "outputs": [
    {
     "data": {
      "image/png": "[encoded data removed]",
      "text/plain": [
       "<Figure size 640x480 with 1 Axes>"
      ]
     },
     "metadata": {},
     "output_type": "display_data"
    }
   ],
   "source": [
    "import matplotlib.pyplot as plt\n",
    "\n",
    "# Scatter plot\n",
    "plt.scatter(df['is_duplicate'], df['similarity'])\n",
    "plt.xlabel('is_duplicate')\n",
    "plt.ylabel('similarity')\n",
    "plt.title('Similarity vs. is_duplicate')\n",
    "plt.show()"
   ]
  },
  {
   "cell_type": "markdown",
   "metadata": {},
   "source": [
    "# word count"
   ]
  },
  {
   "cell_type": "code",
   "execution_count": 5,
   "metadata": {},
   "outputs": [],
   "source": [
    "df['question1_word_count'] = df['question1_clean'].apply(lambda x: len(str(x).split()))"
   ]
  },
  {
   "cell_type": "code",
   "execution_count": 6,
   "metadata": {},
   "outputs": [],
   "source": [
    "df['question2_word_count'] = df['question2_clean'].apply(lambda x: len(str(x).split()))"
   ]
  },
  {
   "cell_type": "code",
   "execution_count": 7,
   "metadata": {},
   "outputs": [],
   "source": [
    "df['diff_word_count'] = df['question1_word_count'] - df['question2_word_count']"
   ]
  },
  {
   "cell_type": "code",
   "execution_count": 8,
   "metadata": {},
   "outputs": [
    {
     "data": {
      "image/png": "[encoded data removed]",
      "text/plain": [
       "<Figure size 640x480 with 1 Axes>"
      ]
     },
     "metadata": {},
     "output_type": "display_data"
    }
   ],
   "source": [
    "# Scatter plot\n",
    "plt.scatter(df['is_duplicate'], df['diff_word_count'])\n",
    "plt.xlabel('is_duplicate')\n",
    "plt.ylabel('diff_word_count')\n",
    "plt.title('Similarity vs. diff_word_count')\n",
    "plt.show()"
   ]
  },
  {
   "cell_type": "code",
   "execution_count": 28,
   "metadata": {},
   "outputs": [],
   "source": [
    "from sklearn.feature_extraction.text import CountVectorizer #for BoW\n",
    "vect = CountVectorizer()"
   ]
  },
  {
   "cell_type": "code",
   "execution_count": 47,
   "metadata": {},
   "outputs": [],
   "source": [
    "vectorizer.fit(df['question1_clean'].tolist() + df['question2_clean'].tolist())\n",
    "\n",
    "# Create the document-term matrices with the same vocabulary\n",
    "word_count_vector_que1 = vectorizer.transform(df['question1_clean'])\n",
    "word_count_vector_que2 = vectorizer.transform(df['question2_clean'])"
   ]
  },
  {
   "cell_type": "markdown",
   "metadata": {},
   "source": [
    "# number of the same words in both questions"
   ]
  },
  {
   "cell_type": "code",
   "execution_count": 9,
   "metadata": {},
   "outputs": [],
   "source": [
    "\n",
    "import numpy as np\n",
    "\n",
    "def count_same_words(row):\n",
    "    words1 = set()\n",
    "    words2 = set()\n",
    "    if isinstance(row['question1_clean'], str):\n",
    "        words1 = set(row['question1_clean'].lower().split())\n",
    "    if isinstance(row['question2_clean'], str):\n",
    "        words2 = set(row['question2_clean'].lower().split())\n",
    "    return len(words1.intersection(words2))\n",
    "\n",
    "df['num_of_same_words'] = df.apply(count_same_words, axis=1)"
   ]
  },
  {
   "cell_type": "code",
   "execution_count": 10,
   "metadata": {},
   "outputs": [
    {
     "data": {
      "image/png": "[encoded data removed]",
      "text/plain": [
       "<Figure size 640x480 with 1 Axes>"
      ]
     },
     "metadata": {},
     "output_type": "display_data"
    }
   ],
   "source": [
    "# Scatter plot\n",
    "plt.scatter(df['is_duplicate'], df['num_of_same_words'])\n",
    "plt.xlabel('is_duplicate')\n",
    "plt.ylabel('diff_word_count')\n",
    "plt.title('Similarity vs. num_of_same_words')\n",
    "plt.show()"
   ]
  },
  {
   "cell_type": "markdown",
   "metadata": {},
   "source": [
    "# TfIdf with TfidfTransformer"
   ]
  },
  {
   "cell_type": "code",
   "execution_count": 5,
   "metadata": {},
   "outputs": [],
   "source": [
    "from sklearn.feature_extraction.text import TfidfVectorizer\n",
    "\n",
    "# Create the TfidfVectorizer with a common vocabulary\n",
    "vectorizer = TfidfVectorizer()\n",
    "vectorizer.fit(df['question1_clean'].tolist() + df['question2_clean'].tolist())\n",
    "\n",
    "# Create the document-term matrices with the same vocabulary\n",
    "tfidf_matrix_que1 = vectorizer.transform(df['question1_clean'])\n",
    "tfidf_matrix_que2 = vectorizer.transform(df['question2_clean'])"
   ]
  },
  {
   "cell_type": "code",
   "execution_count": 8,
   "metadata": {},
   "outputs": [],
   "source": [
    "from sklearn.metrics.pairwise import cosine_similarity\n",
    "import numpy as np\n",
    "\n",
    "# Define the batch size\n",
    "batch_size = 1\n",
    "\n",
    "# Calculate the number of batches\n",
    "num_batches = int(np.ceil(tfidf_matrix_que1.shape[0] / batch_size))\n",
    "\n",
    "# Create an empty list to store the similarity scores\n",
    "similarity_scores = []\n",
    "\n",
    "# Process the matrices in batches\n",
    "for batch in range(num_batches):\n",
    "    # Define the start and end indices for the current batch\n",
    "    start_idx = batch * batch_size\n",
    "    end_idx = min((batch + 1) * batch_size, tfidf_matrix_que1.shape[0])\n",
    "\n",
    "    # Select the batch from the matrices\n",
    "    batch_que1 = tfidf_matrix_que1[start_idx:end_idx]\n",
    "    batch_que2 = tfidf_matrix_que2[start_idx:end_idx]\n",
    "\n",
    "    # Calculate cosine similarity for the current batch\n",
    "    batch_similarity = cosine_similarity(batch_que1, batch_que2)\n",
    "\n",
    "    # Append the batch similarity scores to the list\n",
    "    similarity_scores.append(batch_similarity)\n",
    "\n",
    "# Concatenate the similarity scores from all batches\n",
    "similarity_scores = np.concatenate(similarity_scores)\n",
    "\n",
    "# Add similarity scores to a new column in the DataFrame\n",
    "df['similarity_score'] = similarity_scores.flatten()\n"
   ]
  },
  {
   "cell_type": "code",
   "execution_count": 9,
   "metadata": {},
   "outputs": [
    {
     "data": {
      "text/plain": [
       "0         0.584673\n",
       "1         0.805105\n",
       "2         0.875596\n",
       "3         0.921860\n",
       "4         0.000000\n",
       "            ...   \n",
       "323427    0.836297\n",
       "323428    0.648030\n",
       "323429    0.515638\n",
       "323430    0.882652\n",
       "323431    0.806581\n",
       "Name: similarity_score, Length: 323432, dtype: float64"
      ]
     },
     "execution_count": 9,
     "metadata": {},
     "output_type": "execute_result"
    }
   ],
   "source": [
    "df['similarity_score']"
   ]
  },
  {
   "cell_type": "code",
   "execution_count": 12,
   "metadata": {},
   "outputs": [
    {
     "data": {
      "image/png": "[encoded data removed]",
      "text/plain": [
       "<Figure size 640x480 with 1 Axes>"
      ]
     },
     "metadata": {},
     "output_type": "display_data"
    }
   ],
   "source": [
    "import matplotlib.pyplot as plt\n",
    "# Scatter plot\n",
    "plt.scatter(df['is_duplicate'], df['similarity_score'])\n",
    "plt.xlabel('is_duplicate')\n",
    "plt.ylabel('similarity_score')\n",
    "plt.title('Similarity vs. num_of_same_words')\n",
    "plt.show()"
   ]
  },
  {
   "cell_type": "markdown",
   "metadata": {},
   "source": [
    "### Modeling\n",
    "\n",
    "Different modeling techniques can be used:\n",
    "\n",
    "- logistic regression\n",
    "- XGBoost\n",
    "- LSTMs\n",
    "- etc"
   ]
  },
  {
   "cell_type": "code",
   "execution_count": 14,
   "metadata": {},
   "outputs": [],
   "source": [
    "import pandas as pd\n",
    "from sklearn.model_selection import train_test_split\n",
    "from sklearn.feature_extraction.text import TfidfVectorizer\n",
    "from sklearn.linear_model import LogisticRegression\n",
    "from sklearn.metrics import accuracy_score, classification_report"
   ]
  },
  {
   "cell_type": "markdown",
   "metadata": {},
   "source": [
    "# logistic regression"
   ]
  },
  {
   "cell_type": "code",
   "execution_count": 20,
   "metadata": {},
   "outputs": [
    {
     "name": "stdout",
     "output_type": "stream",
     "text": [
      "Accuracy: 0.6314715476061651\n",
      "Classification Report:\n",
      "              precision    recall  f1-score   support\n",
      "\n",
      "           0       0.64      0.95      0.76     40786\n",
      "           1       0.51      0.09      0.16     23901\n",
      "\n",
      "    accuracy                           0.63     64687\n",
      "   macro avg       0.57      0.52      0.46     64687\n",
      "weighted avg       0.59      0.63      0.54     64687\n",
      "\n"
     ]
    }
   ],
   "source": [
    "# Use logistic regression to predict if questions are duplicate or not\n",
    "from sklearn.model_selection import train_test_split\n",
    "from sklearn.linear_model import LogisticRegression\n",
    "from sklearn.metrics import accuracy_score\n",
    "\n",
    "# Split the data into training and testing sets\n",
    "X = df['similarity'].values.reshape(-1, 1)\n",
    "y = df['is_duplicate'].values\n",
    "X_train, X_test, y_train, y_test = train_test_split(X, y, test_size=0.2, random_state=42)\n",
    "\n",
    "# Create and train the logistic regression model\n",
    "logreg = LogisticRegression()\n",
    "logreg.fit(X_train, y_train)\n",
    "\n",
    "# Make predictions on the test set\n",
    "y_pred = logreg.predict(X_test)\n",
    "from sklearn.metrics import classification_report\n",
    "# Generate the classification report\n",
    "report = classification_report(y_test, y_pred)\n",
    "# Evaluate the accuracy of the model\n",
    "accuracy = accuracy_score(y_test, y_pred)\n",
    "print(\"Accuracy:\", accuracy)\n",
    "print(\"Classification Report:\")\n",
    "print(report)"
   ]
  },
  {
   "cell_type": "code",
   "execution_count": 18,
   "metadata": {},
   "outputs": [
    {
     "data": {
      "image/png": "[encoded data removed]",
      "text/plain": [
       "<Figure size 640x480 with 2 Axes>"
      ]
     },
     "metadata": {},
     "output_type": "display_data"
    }
   ],
   "source": [
    "import numpy as np\n",
    "import seaborn as sns\n",
    "import matplotlib.pyplot as plt\n",
    "from sklearn.metrics import confusion_matrix\n",
    "\n",
    "# Create the confusion matrix\n",
    "cm = confusion_matrix(y_test, y_pred)\n",
    "\n",
    "# Define class labels \n",
    "class_labels = ['Class 0', 'Class 1'] \n",
    "\n",
    "# Create a heatmap of the confusion matrix\n",
    "sns.heatmap(cm, annot=True, fmt='d', xticklabels=class_labels, yticklabels=class_labels)\n",
    "\n",
    "# Add labels and title to the plot\n",
    "plt.xlabel('Predicted Labels')\n",
    "plt.ylabel('True Labels')\n",
    "plt.title('Confusion Matrix')\n",
    "\n",
    "# Display the plot\n",
    "plt.show()"
   ]
  },
  {
   "cell_type": "markdown",
   "metadata": {},
   "source": [
    "# XGBoost"
   ]
  },
  {
   "cell_type": "code",
   "execution_count": 100,
   "metadata": {},
   "outputs": [
    {
     "name": "stdout",
     "output_type": "stream",
     "text": [
      "Accuracy: 0.7387883191367662\n",
      "Classification Report:\n",
      "              precision    recall  f1-score   support\n",
      "\n",
      "           0       0.73      0.93      0.82     40786\n",
      "           1       0.77      0.42      0.54     23901\n",
      "\n",
      "    accuracy                           0.74     64687\n",
      "   macro avg       0.75      0.67      0.68     64687\n",
      "weighted avg       0.74      0.74      0.72     64687\n",
      "\n"
     ]
    }
   ],
   "source": [
    "import xgboost as xgb\n",
    "# Train the XGBoost classifier\n",
    "clf1 = xgb.XGBClassifier()\n",
    "clf1.fit(X_train, y_train)\n",
    "\n",
    "# Make predictions on the testing set\n",
    "y_pred = clf1.predict(X_test)\n",
    "\n",
    "# Evaluate the model\n",
    "accuracy = accuracy_score(y_test, y_pred)\n",
    "report = classification_report(y_test, y_pred)\n",
    "\n",
    "print(\"Accuracy:\", accuracy)\n",
    "print(\"Classification Report:\")\n",
    "print(report)"
   ]
  },
  {
   "cell_type": "code",
   "execution_count": 104,
   "metadata": {},
   "outputs": [
    {
     "data": {
      "image/png": "[encoded data removed]",
      "text/plain": [
       "<Figure size 640x480 with 2 Axes>"
      ]
     },
     "metadata": {},
     "output_type": "display_data"
    }
   ],
   "source": [
    "import numpy as np\n",
    "import seaborn as sns\n",
    "import matplotlib.pyplot as plt\n",
    "from sklearn.metrics import confusion_matrix\n",
    "\n",
    "# Create the confusion matrix\n",
    "cm = confusion_matrix(y_test, y_pred)\n",
    "\n",
    "# Define class labels \n",
    "class_labels = ['Class 0', 'Class 1'] \n",
    "\n",
    "# Create a color map\n",
    "cmap = sns.color_palette(\"Blues\")\n",
    "\n",
    "# Create a heatmap of the confusion matrix\n",
    "sns.heatmap(cm, annot=True, fmt='d', xticklabels=class_labels, yticklabels=class_labels,cmap=cmap)\n",
    "\n",
    "# Add labels and title to the plot\n",
    "plt.xlabel('Predicted Labels')\n",
    "plt.ylabel('True Labels')\n",
    "plt.title('Confusion Matrix')\n",
    "\n",
    "# Display the plot\n",
    "plt.show()"
   ]
  },
  {
   "cell_type": "markdown",
   "metadata": {},
   "source": [
    "# LSTMs"
   ]
  },
  {
   "cell_type": "code",
   "execution_count": 66,
   "metadata": {},
   "outputs": [
    {
     "name": "stdout",
     "output_type": "stream",
     "text": [
      "Epoch 1/5\n",
      "8086/8086 [==============================] - 1879s 232ms/step - loss: 0.5142 - accuracy: 0.7476 - val_loss: 0.4814 - val_accuracy: 0.7684\n",
      "Epoch 2/5\n",
      "8086/8086 [==============================] - 1823s 225ms/step - loss: 0.4174 - accuracy: 0.8049 - val_loss: 0.4520 - val_accuracy: 0.7866\n",
      "Epoch 3/5\n",
      "8086/8086 [==============================] - 1767s 218ms/step - loss: 0.3386 - accuracy: 0.8470 - val_loss: 0.4528 - val_accuracy: 0.7929\n",
      "Epoch 4/5\n",
      "8086/8086 [==============================] - 1721s 213ms/step - loss: 0.2738 - accuracy: 0.8791 - val_loss: 0.4764 - val_accuracy: 0.7928\n",
      "Epoch 5/5\n",
      "8086/8086 [==============================] - 1724s 213ms/step - loss: 0.2201 - accuracy: 0.9051 - val_loss: 0.5263 - val_accuracy: 0.7910\n",
      "2022/2022 [==============================] - 60s 30ms/step - loss: 0.5263 - accuracy: 0.7910\n",
      "Loss: 0.5262574553489685\n",
      "Accuracy: 0.7910090088844299\n"
     ]
    }
   ],
   "source": [
    "import pandas as pd\n",
    "from sklearn.model_selection import train_test_split\n",
    "from keras.preprocessing.text import Tokenizer\n",
    "from tensorflow.keras.preprocessing.sequence import pad_sequences\n",
    "from tensorflow.keras.models import Sequential\n",
    "from tensorflow.keras.layers import LSTM, Dense, Embedding\n",
    "\n",
    "# Tokenize the text data\n",
    "tokenizer = Tokenizer()\n",
    "tokenizer.fit_on_texts(corpus)\n",
    "sequences = tokenizer.texts_to_sequences(corpus)\n",
    "\n",
    "# Pad sequences to a fixed length\n",
    "max_sequence_length = 100  # Adjust this value as needed\n",
    "padded_sequences = pad_sequences(sequences, maxlen=max_sequence_length)\n",
    "\n",
    "# Step 5: Modeling\n",
    "# Split the dataset into training and testing sets\n",
    "X_train, X_test, y_train, y_test = train_test_split(padded_sequences, labels, test_size=0.2, random_state=42)\n",
    "\n",
    "import numpy as np\n",
    "\n",
    "# Convert the input data to NumPy arrays\n",
    "X_train = np.array(X_train)\n",
    "X_test = np.array(X_test)\n",
    "y_train = np.array(y_train)\n",
    "y_test = np.array(y_test)\n",
    "\n",
    "# Build the LSTM model\n",
    "embedding_dim = 100  # Adjust this value as needed\n",
    "vocab_size = len(tokenizer.word_index) + 1\n",
    "\n",
    "model = Sequential()\n",
    "model.add(Embedding(vocab_size, embedding_dim, input_length=max_sequence_length))\n",
    "model.add(LSTM(128))\n",
    "model.add(Dense(1, activation='sigmoid'))\n",
    "\n",
    "model.compile(loss='binary_crossentropy', optimizer='adam', metrics=['accuracy'])\n",
    "\n",
    "# Train the LSTM model\n",
    "batch_size = 32  # Adjust this value as needed\n",
    "epochs = 5  # Adjust this value as needed\n",
    "model.fit(X_train, y_train, batch_size=batch_size, epochs=epochs, validation_data=(X_test, y_test))\n",
    "\n",
    "# Evaluate the model\n",
    "loss, accuracy = model.evaluate(X_test, y_test)\n",
    "print(\"Loss:\", loss)\n",
    "print(\"Accuracy:\", accuracy)"
   ]
  },
  {
   "cell_type": "code",
   "execution_count": null,
   "metadata": {},
   "outputs": [],
   "source": []
  },
  {
   "cell_type": "code",
   "execution_count": null,
   "metadata": {},
   "outputs": [],
   "source": []
  },
  {
   "cell_type": "code",
   "execution_count": 77,
   "metadata": {},
   "outputs": [],
   "source": [
    "df = test_df.fillna('no que')"
   ]
  },
  {
   "cell_type": "code",
   "execution_count": 78,
   "metadata": {},
   "outputs": [],
   "source": [
    "feature = df[['question1','question2']]"
   ]
  },
  {
   "cell_type": "code",
   "execution_count": 79,
   "metadata": {},
   "outputs": [],
   "source": [
    "df['question1_clean'] = df['question1'].apply(lambda x: preprocess(x))"
   ]
  },
  {
   "cell_type": "code",
   "execution_count": 80,
   "metadata": {},
   "outputs": [],
   "source": [
    "df['question2_clean'] = df['question2'].apply(lambda x: preprocess(x))"
   ]
  },
  {
   "cell_type": "code",
   "execution_count": 81,
   "metadata": {},
   "outputs": [],
   "source": [
    "# Save the DataFrame as a CSV file\n",
    "df.to_csv('clean_test_df.csv', index=False)"
   ]
  },
  {
   "cell_type": "code",
   "execution_count": 82,
   "metadata": {},
   "outputs": [],
   "source": [
    "# Prepare the features and labels\n",
    "corpus1 = df['question1_clean'].tolist()\n",
    "corpus2 = df['question2_clean'].tolist()\n",
    "\n",
    "# Combine the two question columns\n",
    "corpus = [q1 + ' ' + q2 for q1, q2 in zip(corpus1, corpus2)]\n",
    "\n",
    "# Tokenize the text data\n",
    "tokenizer = Tokenizer()\n",
    "tokenizer.fit_on_texts(corpus)\n",
    "sequences = tokenizer.texts_to_sequences(corpus)\n",
    "\n",
    "# Pad sequences to a fixed length\n",
    "max_sequence_length = 100  # Adjust this value as needed\n",
    "padded_sequences = pad_sequences(sequences, maxlen=max_sequence_length)\n",
    "\n",
    "X_test = np.array(padded_sequences)\n"
   ]
  },
  {
   "cell_type": "code",
   "execution_count": 83,
   "metadata": {},
   "outputs": [
    {
     "name": "stdout",
     "output_type": "stream",
     "text": [
      "2527/2527 [==============================] - 57s 22ms/step\n"
     ]
    }
   ],
   "source": [
    "# Make predictions\n",
    "predictions = model.predict(X_test)"
   ]
  },
  {
   "cell_type": "code",
   "execution_count": 149,
   "metadata": {},
   "outputs": [
    {
     "data": {
      "text/plain": [
       "array([8.0218720e-01, 2.4241863e-02, 2.1733895e-04, ..., 1.1303309e-02,\n",
       "       1.2724793e-04, 2.8691438e-01], dtype=float32)"
      ]
     },
     "execution_count": 149,
     "metadata": {},
     "output_type": "execute_result"
    }
   ],
   "source": [
    "predictions"
   ]
  },
  {
   "cell_type": "code",
   "execution_count": 151,
   "metadata": {},
   "outputs": [
    {
     "data": {
      "text/plain": [
       "80858"
      ]
     },
     "execution_count": 151,
     "metadata": {},
     "output_type": "execute_result"
    }
   ],
   "source": [
    "threshold = 0.5  # Adjust this threshold as needed\n",
    "y_pred_actual = (predictions >= threshold).astype(int)\n",
    "len(y_pred_actual)"
   ]
  },
  {
   "cell_type": "code",
   "execution_count": 152,
   "metadata": {},
   "outputs": [],
   "source": [
    "y_test = np.array(test_df['is_duplicate'])"
   ]
  },
  {
   "cell_type": "code",
   "execution_count": 153,
   "metadata": {},
   "outputs": [
    {
     "data": {
      "text/plain": [
       "array([0, 0, 0, ..., 0, 0, 0], dtype=int64)"
      ]
     },
     "execution_count": 153,
     "metadata": {},
     "output_type": "execute_result"
    }
   ],
   "source": [
    "y_test"
   ]
  },
  {
   "cell_type": "code",
   "execution_count": 155,
   "metadata": {},
   "outputs": [
    {
     "data": {
      "image/png": "[encoded data removed]",
      "text/plain": [
       "<Figure size 640x480 with 2 Axes>"
      ]
     },
     "metadata": {},
     "output_type": "display_data"
    }
   ],
   "source": [
    "import numpy as np\n",
    "import seaborn as sns\n",
    "import matplotlib.pyplot as plt\n",
    "from sklearn.metrics import confusion_matrix\n",
    "\n",
    "# Create the confusion matrix\n",
    "cm = confusion_matrix(y_test, y_pred_actual)\n",
    "\n",
    "# Define class labels \n",
    "class_labels = ['Class 0', 'Class 1'] \n",
    "\n",
    "# Create a color map\n",
    "cmap = sns.color_palette(\"Reds\")\n",
    "\n",
    "# Create a heatmap of the confusion matrix\n",
    "sns.heatmap(cm, annot=True, fmt='d', xticklabels=class_labels, yticklabels=class_labels,cmap=cmap)\n",
    "\n",
    "# Add labels and title to the plot\n",
    "plt.xlabel('Predicted Labels')\n",
    "plt.ylabel('True Labels')\n",
    "plt.title('Confusion Matrix')\n",
    "\n",
    "# Display the plot\n",
    "plt.show()"
   ]
  },
  {
   "cell_type": "code",
   "execution_count": null,
   "metadata": {},
   "outputs": [],
   "source": []
  }
 ],
 "metadata": {
  "kernelspec": {
   "display_name": "Python 3 (ipykernel)",
   "language": "python",
   "name": "python3"
  },
  "language_info": {
   "codemirror_mode": {
    "name": "ipython",
    "version": 3
   },
   "file_extension": ".py",
   "mimetype": "text/x-python",
   "name": "python",
   "nbconvert_exporter": "python",
   "pygments_lexer": "ipython3",
   "version": "3.10.9"
  }
 },
 "nbformat": 4,
 "nbformat_minor": 4
}
